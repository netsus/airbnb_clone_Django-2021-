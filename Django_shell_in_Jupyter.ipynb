{
 "cells": [
  {
   "cell_type": "code",
   "execution_count": 2,
   "id": "ea7747aa",
   "metadata": {
    "ExecuteTime": {
     "end_time": "2021-05-20T16:22:53.433595Z",
     "start_time": "2021-05-20T16:22:53.428156Z"
    }
   },
   "outputs": [],
   "source": [
    "from django.db.models import Model\n",
    "\n",
    "from users import models as user_models\n",
    "from rooms import models as room_models\n",
    "from conversations import models as conversation_models\n",
    "from lists import models as list_models\n",
    "from reservations import models as reservation_models\n",
    "from reviews import models as review_models"
   ]
  },
  {
   "cell_type": "code",
   "execution_count": null,
   "id": "0fe3e3b8",
   "metadata": {},
   "outputs": [],
   "source": []
  }
 ],
 "metadata": {
  "kernelspec": {
   "display_name": "Django Shell-Plus",
   "language": "python",
   "name": "django_extensions"
  },
  "language_info": {
   "codemirror_mode": {
    "name": "ipython",
    "version": 3
   },
   "file_extension": ".py",
   "mimetype": "text/x-python",
   "name": "python",
   "nbconvert_exporter": "python",
   "pygments_lexer": "ipython3",
   "version": "3.8.7"
  },
  "toc": {
   "base_numbering": 1,
   "nav_menu": {},
   "number_sections": true,
   "sideBar": true,
   "skip_h1_title": false,
   "title_cell": "Table of Contents",
   "title_sidebar": "Contents",
   "toc_cell": false,
   "toc_position": {},
   "toc_section_display": true,
   "toc_window_display": false
  }
 },
 "nbformat": 4,
 "nbformat_minor": 5
}

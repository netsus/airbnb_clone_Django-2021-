{
 "cells": [
  {
   "cell_type": "code",
   "execution_count": 1,
   "id": "c0b36dc7",
   "metadata": {
    "ExecuteTime": {
     "end_time": "2021-05-15T10:26:23.776942Z",
     "start_time": "2021-05-15T10:26:23.766981Z"
    }
   },
   "outputs": [],
   "source": [
    "from django.db.models import Model"
   ]
  },
  {
   "cell_type": "code",
   "execution_count": 11,
   "id": "e1ce1f70",
   "metadata": {
    "ExecuteTime": {
     "end_time": "2021-05-15T10:28:34.194624Z",
     "start_time": "2021-05-15T10:28:34.189771Z"
    }
   },
   "outputs": [],
   "source": [
    "from users import models as user_models\n",
    "from rooms import models as room_models"
   ]
  },
  {
   "cell_type": "code",
   "execution_count": 9,
   "id": "00e849e5",
   "metadata": {
    "ExecuteTime": {
     "end_time": "2021-05-15T10:28:20.973401Z",
     "start_time": "2021-05-15T10:28:20.965700Z"
    }
   },
   "outputs": [
    {
     "data": {
      "text/plain": [
       "['AbstractUser',\n",
       " 'User',\n",
       " '_',\n",
       " '__builtins__',\n",
       " '__cached__',\n",
       " '__doc__',\n",
       " '__file__',\n",
       " '__loader__',\n",
       " '__name__',\n",
       " '__package__',\n",
       " '__spec__',\n",
       " 'models',\n",
       " 'render_to_string',\n",
       " 'reverse',\n",
       " 'send_mail',\n",
       " 'settings',\n",
       " 'strip_tags',\n",
       " 'uuid']"
      ]
     },
     "execution_count": 9,
     "metadata": {},
     "output_type": "execute_result"
    }
   ],
   "source": [
    "dir(user_models)"
   ]
  },
  {
   "cell_type": "code",
   "execution_count": 12,
   "id": "12f0ff35",
   "metadata": {
    "ExecuteTime": {
     "end_time": "2021-05-15T10:28:46.221721Z",
     "start_time": "2021-05-15T10:28:46.205922Z"
    }
   },
   "outputs": [
    {
     "data": {
      "text/plain": [
       "<QuerySet [<User: cwjcsk2@naver.com>, <User: guswn>, <User: netsus>, <User: mary27>, <User: erikpearson>, <User: pbridges>, <User: arianabanks>, <User: jcox>, <User: erogers>, <User: william45>, <User: nicholasweeks>, <User: mjackson>, <User: amanda53>, <User: hurleyelizabeth>, <User: veganicholas>, <User: smithmartin>, <User: tyronemartinez>, <User: sally39>, <User: conleyjulie>, <User: guerradeborah>, '...(remaining elements truncated)...']>"
      ]
     },
     "execution_count": 12,
     "metadata": {},
     "output_type": "execute_result"
    }
   ],
   "source": [
    "user_models.User.objects.all()"
   ]
  },
  {
   "cell_type": "code",
   "execution_count": null,
   "id": "1d56dfe6",
   "metadata": {},
   "outputs": [],
   "source": []
  }
 ],
 "metadata": {
  "kernelspec": {
   "display_name": "Django Shell-Plus",
   "language": "python",
   "name": "django_extensions"
  },
  "language_info": {
   "codemirror_mode": {
    "name": "ipython",
    "version": 3
   },
   "file_extension": ".py",
   "mimetype": "text/x-python",
   "name": "python",
   "nbconvert_exporter": "python",
   "pygments_lexer": "ipython3",
   "version": "3.8.7"
  },
  "toc": {
   "base_numbering": 1,
   "nav_menu": {},
   "number_sections": true,
   "sideBar": true,
   "skip_h1_title": false,
   "title_cell": "Table of Contents",
   "title_sidebar": "Contents",
   "toc_cell": false,
   "toc_position": {},
   "toc_section_display": true,
   "toc_window_display": false
  }
 },
 "nbformat": 4,
 "nbformat_minor": 5
}
